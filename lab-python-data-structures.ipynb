{
 "cells": [
  {
   "cell_type": "markdown",
   "metadata": {
    "tags": []
   },
   "source": [
    "# Lab | Data Structures "
   ]
  },
  {
   "cell_type": "markdown",
   "metadata": {},
   "source": [
    "## Exercise: Managing Customer Orders\n",
    "\n",
    "As part of a business venture, you are starting an online store that sells various products. To ensure smooth operations, you need to develop a program that manages customer orders and inventory.\n",
    "\n",
    "Follow the steps below to complete the exercise:\n",
    "\n",
    "1. Define a list called `products` that contains the following items: \"t-shirt\", \"mug\", \"hat\", \"book\", \"keychain\".\n",
    "\n",
    "2. Create an empty dictionary called `inventory`.\n",
    "\n",
    "3. Ask the user to input the quantity of each product available in the inventory. Use the product names from the `products` list as keys in the `inventory` dictionary and assign the respective quantities as values.\n",
    "\n",
    "4. Create an empty set called `customer_orders`.\n",
    "\n",
    "5. Ask the user to input the name of three products that a customer wants to order (from those in the products list, meaning three products out of \"t-shirt\", \"mug\", \"hat\", \"book\" or \"keychain\". Add each product name to the `customer_orders` set.\n",
    "\n",
    "6. Print the products in the `customer_orders` set.\n",
    "\n",
    "7. Calculate the following order statistics:\n",
    "   - Total Products Ordered: The total number of products in the `customer_orders` set.\n",
    "   - Percentage of Products Ordered: The percentage of products ordered compared to the total available products.\n",
    "   \n",
    "   Store these statistics in a tuple called `order_status`.\n",
    "\n",
    "8. Print the order statistics using the following format:\n",
    "   ```\n",
    "   Order Statistics:\n",
    "   Total Products Ordered: <total_products_ordered>\n",
    "   Percentage of Products Ordered: <percentage_ordered>% \n",
    "   ```\n",
    "\n",
    "9. Update the inventory by subtracting 1 from the quantity of each product. Modify the `inventory` dictionary accordingly.\n",
    "\n",
    "10. Print the updated inventory, displaying the quantity of each product on separate lines.\n",
    "\n",
    "Solve the exercise by implementing the steps using the Python concepts of lists, dictionaries, sets, and basic input/output operations. "
   ]
  },
  {
   "cell_type": "code",
   "execution_count": null,
   "metadata": {},
   "outputs": [
    {
     "ename": "ValueError",
     "evalue": "invalid literal for int() with base 10: ''",
     "output_type": "error",
     "traceback": [
      "\u001b[1;31m---------------------------------------------------------------------------\u001b[0m",
      "\u001b[1;31mValueError\u001b[0m                                Traceback (most recent call last)",
      "Cell \u001b[1;32mIn[2], line 7\u001b[0m\n\u001b[0;32m      4\u001b[0m inventory \u001b[38;5;241m=\u001b[39m {}\n\u001b[0;32m      6\u001b[0m \u001b[38;5;66;03m#Populate the inventory with the products as key and a user input for the value\u001b[39;00m\n\u001b[1;32m----> 7\u001b[0m inventory[products[\u001b[38;5;241m0\u001b[39m]] \u001b[38;5;241m=\u001b[39m user_input \u001b[38;5;241m=\u001b[39m \u001b[38;5;28mint\u001b[39m(\u001b[38;5;28minput\u001b[39m(\u001b[38;5;124mf\u001b[39m\u001b[38;5;124m\"\u001b[39m\u001b[38;5;124mPlease enter the number of \u001b[39m\u001b[38;5;132;01m{\u001b[39;00m\u001b[38;5;28mstr\u001b[39m([products[\u001b[38;5;241m0\u001b[39m]])\u001b[38;5;132;01m}\u001b[39;00m\u001b[38;5;124m available in your inventory\u001b[39m\u001b[38;5;124m\"\u001b[39m))\n\u001b[0;32m      8\u001b[0m inventory[products[\u001b[38;5;241m1\u001b[39m]] \u001b[38;5;241m=\u001b[39m user_input \u001b[38;5;241m=\u001b[39m \u001b[38;5;28mint\u001b[39m(\u001b[38;5;28minput\u001b[39m(\u001b[38;5;124mf\u001b[39m\u001b[38;5;124m\"\u001b[39m\u001b[38;5;124mPlease enter the number of \u001b[39m\u001b[38;5;132;01m{\u001b[39;00m[products[\u001b[38;5;241m1\u001b[39m]]\u001b[38;5;132;01m}\u001b[39;00m\u001b[38;5;124m available in your inventory\u001b[39m\u001b[38;5;124m\"\u001b[39m))\n\u001b[0;32m      9\u001b[0m inventory[products[\u001b[38;5;241m2\u001b[39m]] \u001b[38;5;241m=\u001b[39m user_input \u001b[38;5;241m=\u001b[39m \u001b[38;5;28mint\u001b[39m(\u001b[38;5;28minput\u001b[39m(\u001b[38;5;124mf\u001b[39m\u001b[38;5;124m\"\u001b[39m\u001b[38;5;124mPlease enter the number of \u001b[39m\u001b[38;5;132;01m{\u001b[39;00m[products[\u001b[38;5;241m2\u001b[39m]]\u001b[38;5;132;01m}\u001b[39;00m\u001b[38;5;124m available in your inventory\u001b[39m\u001b[38;5;124m\"\u001b[39m))\n",
      "\u001b[1;31mValueError\u001b[0m: invalid literal for int() with base 10: ''"
     ]
    }
   ],
   "source": [
    "#Create a list with the products available\n",
    "products = [\"t-shirt\", \"mug\", \"hat\", \"book\", \"keychain\"]\n",
    "#Create an empty dictionary\n",
    "inventory = {}\n",
    "\n",
    "#Populate the inventory with the products as key and a user input for the value\n",
    "inventory[products[0]] = user_input = int(input(f\"Please enter the number of {[products[0]]} available in your inventory\"))\n",
    "inventory[products[1]] = user_input = int(input(f\"Please enter the number of {[products[1]]} available in your inventory\"))\n",
    "inventory[products[2]] = user_input = int(input(f\"Please enter the number of {[products[2]]} available in your inventory\"))\n",
    "inventory[products[3]] = user_input = int(input(f\"Please enter the number of {[products[3]]} available in your inventory\"))\n",
    "inventory[products[4]] = user_input = int(input(f\"Please enter the number of {[products[4]]} available in your inventory\"))\n",
    "\n",
    "#Create a new empty set to store the customer orders\n",
    "customer_orders = set()\n",
    "#Request input from the user until they have inputed 3 items\n",
    "user_request = input('Enter the name of the product you want to purchase:')\n",
    "customer_orders.add(user_request)\n",
    "user_request = input('Enter the name of the product you want to purchase:')\n",
    "customer_orders.add(user_request)\n",
    "user_request = input('Enter the name of the product you want to purchase:')\n",
    "customer_orders.add(user_request)\n",
    "\n",
    "print(customer_orders)\n",
    "#Count the orders\n",
    "total_products_ordered = len(customer_orders)\n",
    "#Add the quantity of all products to understand stock\n",
    "total_products = sum(inventory.values())\n",
    "#Calculate statistics\n",
    "percentage_ordered = (total_products_ordered/total_products)*100\n",
    "order_status = (total_products_ordered, percentage_ordered)\n",
    "#Print statistics\n",
    "print(f\"\\n ```   \\n Order Statistics:    \\n Total Products Ordered: {order_status[0]}  \\n Percentage of Products Ordered: {order_status[1]}% \\n ```\")\n",
    "#Iterate through the dictionary to see if any of the requests match the stock and deduce 1 from the stock of each product ordered\n",
    "print(f\"\\n ``` inventory values prior to deduction were: \\n {inventory} \\n ```\")\n",
    "inventory[products[0]] = inventory.get(products[0]) - 1\n",
    "inventory[products[1]] = inventory.get(products[1]) - 1\n",
    "inventory[products[2]] = inventory.get(products[2]) - 1\n",
    "inventory[products[3]] = inventory.get(products[3]) - 1\n",
    "inventory[products[4]] = inventory.get(products[4]) - 1\n",
    "#print the final inventory\n",
    "print(f\"\\n ``` inventory values after deduction are: \\n {inventory} \\n ```\")"
   ]
  },
  {
   "cell_type": "code",
   "execution_count": null,
   "metadata": {},
   "outputs": [],
   "source": []
  }
 ],
 "metadata": {
  "kernelspec": {
   "display_name": "base",
   "language": "python",
   "name": "python3"
  },
  "language_info": {
   "codemirror_mode": {
    "name": "ipython",
    "version": 3
   },
   "file_extension": ".py",
   "mimetype": "text/x-python",
   "name": "python",
   "nbconvert_exporter": "python",
   "pygments_lexer": "ipython3",
   "version": "3.12.7"
  }
 },
 "nbformat": 4,
 "nbformat_minor": 4
}
